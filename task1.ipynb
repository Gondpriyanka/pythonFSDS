{
  "metadata": {
    "language_info": {
      "codemirror_mode": {
        "name": "python",
        "version": 3
      },
      "file_extension": ".py",
      "mimetype": "text/x-python",
      "name": "python",
      "nbconvert_exporter": "python",
      "pygments_lexer": "ipython3",
      "version": "3.8"
    },
    "kernelspec": {
      "name": "python",
      "display_name": "Pyolite",
      "language": "python"
    }
  },
  "nbformat_minor": 4,
  "nbformat": 4,
  "cells": [
    {
      "cell_type": "code",
      "source": "#1.Try to extract data from index 1 to 300 index with a jump of 3\ns=\"This is my first python programming class for and I am learning python string and its functions\"\ns[1:300:3]",
      "metadata": {
        "trusted": true
      },
      "execution_count": 16,
      "outputs": [
        {
          "execution_count": 16,
          "output_type": "execute_result",
          "data": {
            "text/plain": "'h   r tnrrmglsoa alrnph rgni nis'"
          },
          "metadata": {}
        }
      ]
    },
    {
      "cell_type": "code",
      "source": "#2.Try to Reverse string with out using reverse function \ns[::-1]",
      "metadata": {
        "trusted": true
      },
      "execution_count": 17,
      "outputs": [
        {
          "execution_count": 17,
          "output_type": "execute_result",
          "data": {
            "text/plain": "'snoitcnuf sti dna gnirts nohtyp gninrael ma I dna rof ssalc gnimmargorp nohtyp tsrif ym si sihT'"
          },
          "metadata": {}
        }
      ]
    },
    {
      "cell_type": "code",
      "source": "#3.Try to split a string after conversion of string into upper case\nn=s.upper()\nn.split()",
      "metadata": {
        "trusted": true
      },
      "execution_count": 18,
      "outputs": [
        {
          "execution_count": 18,
          "output_type": "execute_result",
          "data": {
            "text/plain": "['THIS',\n 'IS',\n 'MY',\n 'FIRST',\n 'PYTHON',\n 'PROGRAMMING',\n 'CLASS',\n 'FOR',\n 'AND',\n 'I',\n 'AM',\n 'LEARNING',\n 'PYTHON',\n 'STRING',\n 'AND',\n 'ITS',\n 'FUNCTIONS']"
          },
          "metadata": {}
        }
      ]
    },
    {
      "cell_type": "code",
      "source": "#4.try to convert the whole string into lower case\nn.lower()",
      "metadata": {
        "trusted": true
      },
      "execution_count": 19,
      "outputs": [
        {
          "execution_count": 19,
          "output_type": "execute_result",
          "data": {
            "text/plain": "'this is my first python programming class for and i am learning python string and its functions'"
          },
          "metadata": {}
        }
      ]
    },
    {
      "cell_type": "code",
      "source": "#5.Try to capitalize the whole string \ns.capitalize()",
      "metadata": {
        "trusted": true
      },
      "execution_count": 20,
      "outputs": [
        {
          "execution_count": 20,
          "output_type": "execute_result",
          "data": {
            "text/plain": "'This is my first python programming class for and i am learning python string and its functions'"
          },
          "metadata": {}
        }
      ]
    },
    {
      "cell_type": "markdown",
      "source": "6.difference between isalnum() and isalpha()\n1.isalpha is a method used to check whether the given string is consiting of all the alphabets/only alphabets\n2.isalnum is a method used to check whether the given string is consisiting of both numbers and alphabets\nor only aphabets or only numbers/combinations (no other character/space/symbol apart form alphabets and numbers)\n3.both the methods isaplha and isalnum returns bool(true/false)\n3.isalpha and isalnum is applicable for only string data type(strings/string of numbers )but not for integaers \nex:s=1234-isalnum gives attributes error\nAttributeError: 'int' object has no attribute 'isalpha'\n\ns=\"1234\"-isalnum gives true",
      "metadata": {}
    },
    {
      "cell_type": "code",
      "source": "s=\"Python123\"\ns1=\"Python Programming\"\ns2=\"Pythonpractice\"\nprint(s,\"is apha-\",s.isalpha())\nprint(s,\"is alnum-\",s.isalnum())\nprint(s1,\"is alpha-\",s1.isalpha())\nprint(s1,\"is alnum-\",s1.isalnum())\nprint(s2,\"is alpha-\",s2.isalpha())\nprint(s2,\"is alnum-\",s2.isalnum())\ns3=\"289284938\"\nprint(s3,\"is alpha-\",s3.isalpha())\nprint(s3,\"is alnum-\",s3.isalnum())",
      "metadata": {
        "trusted": true
      },
      "execution_count": 38,
      "outputs": [
        {
          "name": "stdout",
          "text": "Python123 is apha- False\nPython123 is alnum- True\nPython Programming is alpha- False\nPython Programming is alnum- False\nPythonpractice is alpha- True\nPythonpractice is alnum- True\n289284938 is alpha- False\n289284938 is alnum- True\n",
          "output_type": "stream"
        }
      ]
    },
    {
      "cell_type": "code",
      "source": "#7.try to give example of expandtab\ns=\"I\\tam\\tlearning\\tfullstackdatascience\\tThis\\tis\\tmy\\tfirst\\tclass\\ton\\tstring\"\ns.expandtabs()",
      "metadata": {
        "trusted": true
      },
      "execution_count": 39,
      "outputs": [
        {
          "execution_count": 39,
          "output_type": "execute_result",
          "data": {
            "text/plain": "'I       am      learning        fullstackdatascience    This    is      my      first   class   on      string'"
          },
          "metadata": {}
        }
      ]
    },
    {
      "cell_type": "code",
      "source": "#8.Example of strip ,lstrip,rstrip\nstrip_ex=\"     I am practicing python string      \"\nprint(strip_ex.strip())#removes spaces from leftside and rightside of string\nprint(strip_ex.lstrip())#removes spaces from leftside of string\nprint(strip_ex.rstrip())#removes spaces from rightside of string",
      "metadata": {
        "trusted": true
      },
      "execution_count": 42,
      "outputs": [
        {
          "name": "stdout",
          "text": "I am practicing python string\nI am practicing python string      \n     I am practicing python string\n",
          "output_type": "stream"
        }
      ]
    },
    {
      "cell_type": "code",
      "source": "#9.replace a string character by another character \nmystring=\"This is a python course\"\nprint(mystring.replace(\"python\",\"FSDS\"))\nprint(mystring.replace(\"i\",\"a\"))",
      "metadata": {
        "trusted": true
      },
      "execution_count": 47,
      "outputs": [
        {
          "name": "stdout",
          "text": "This is a FSDS course\nThas as a python course\n",
          "output_type": "stream"
        }
      ]
    },
    {
      "cell_type": "code",
      "source": "#10.try to give definition of string center with Example\n#String centere will make a string aligned in center position ,default padding(left&right) is space\n#we can specify the character and the length of the string \nc=\"python\"\nprint(c.center(30))\nprint(c.center(20,\"@\"))\n#outputstring length is 20 with actual string aligned in center and rest of the spaces filled/padded with @\n",
      "metadata": {
        "trusted": true
      },
      "execution_count": 51,
      "outputs": [
        {
          "name": "stdout",
          "text": "            python            \n@@@@@@@python@@@@@@@\n",
          "output_type": "stream"
        }
      ]
    },
    {
      "cell_type": "markdown",
      "source": "11.definition of compiler and interpretter\ncompiler-is a machine/software that converts the highlevel (human understandable code)into machine understandable language ,converts entire code at once and displays all the errors at once.we cannot see the output unless and untill all the errors are fixed\n\nIntepretter-It converts all the code line by line and executes the program ,it displays the result until we encounter the error and the flow/next line of code can be interpretted only once the error is fixed\n\n\n",
      "metadata": {}
    },
    {
      "cell_type": "markdown",
      "source": "12.python is interpretted or compiled language\npython is interpretted language it evaluates the code line by line and stops evaluating when it encounters an error\nex:\ns=\"python\"\nprint(\"hello world\")\nprint(s+1)\nprint(s*2)\n\nthe output will be Hello World followed by error and next line after error is not printed",
      "metadata": {}
    },
    {
      "cell_type": "code",
      "source": "s=\"python\"\nprint(\"hello world\")\nprint(s+1)\nprint(s*2)\n#prints hello world and stops interpretting after encountering error at line print(s+1)",
      "metadata": {
        "trusted": true
      },
      "execution_count": 1,
      "outputs": [
        {
          "name": "stdout",
          "text": "hello world\n",
          "output_type": "stream"
        },
        {
          "ename": "<class 'TypeError'>",
          "evalue": "can only concatenate str (not \"int\") to str",
          "traceback": [
            "\u001b[0;31m---------------------------------------------------------------------------\u001b[0m",
            "\u001b[0;31mTypeError\u001b[0m                                 Traceback (most recent call last)",
            "Input \u001b[0;32mIn [1]\u001b[0m, in \u001b[0;36m<cell line: 3>\u001b[0;34m()\u001b[0m\n\u001b[1;32m      1\u001b[0m s\u001b[38;5;241m=\u001b[39m\u001b[38;5;124m\"\u001b[39m\u001b[38;5;124mpython\u001b[39m\u001b[38;5;124m\"\u001b[39m\n\u001b[1;32m      2\u001b[0m \u001b[38;5;28mprint\u001b[39m(\u001b[38;5;124m\"\u001b[39m\u001b[38;5;124mhello world\u001b[39m\u001b[38;5;124m\"\u001b[39m)\n\u001b[0;32m----> 3\u001b[0m \u001b[38;5;28mprint\u001b[39m(\u001b[43ms\u001b[49m\u001b[38;5;241;43m+\u001b[39;49m\u001b[38;5;241;43m1\u001b[39;49m)\n\u001b[1;32m      4\u001b[0m \u001b[38;5;28mprint\u001b[39m(s\u001b[38;5;241m*\u001b[39m\u001b[38;5;241m2\u001b[39m)\n",
            "\u001b[0;31mTypeError\u001b[0m: can only concatenate str (not \"int\") to str"
          ],
          "output_type": "error"
        }
      ]
    },
    {
      "cell_type": "markdown",
      "source": "13.use cases of python with clear understanding\nPython is Used in webdevelopment,AI,ML,Automation ,IOT Gaming application development \n-We can use python in software testing for creating automated testscripts along with someother framework like selenium\n-Used in webdevelopment ex:spotify is built using python at backend and wordpress(frontend)\n-Used in AI and ML related applications for many companies for data analysis,business analytics,data cleaning and making predictions on the sales and many more things\n-Used in IOT and robotics along with hardware components like rasberry PI .Example building a robot we can use python language to provide behaviour and some other functionality like writing code for arm/hand moment etc.\n-used in the development of gaming application s like popular snake game is build using python\n\ncompanies like google(Search engine optimization,data extraction ),NASA (uses python for automating tasks..),instagram(photosharing built using django framework which itself is a python framework),Amazon (for providing products and deals recomendation based on our previous purchases) instagram ,uber(uses algorithms for the rider ,driver availability and mapping ) ,spotify are using python\n",
      "metadata": {}
    }
  ]
}